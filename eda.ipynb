{
 "cells": [
  {
   "cell_type": "code",
   "execution_count": 13,
   "metadata": {},
   "outputs": [],
   "source": [
    "import json\n",
    "\n",
    "import numpy as np\n",
    "import pandas as pd"
   ]
  },
  {
   "cell_type": "code",
   "execution_count": 44,
   "metadata": {},
   "outputs": [],
   "source": [
    "with open('./data/webtender_format.json', 'r') as f:\n",
    "    data = json.load(f)"
   ]
  },
  {
   "cell_type": "code",
   "execution_count": 45,
   "metadata": {},
   "outputs": [],
   "source": [
    "for idx, d in enumerate(data):\n",
    "    # Remove empty strings\n",
    "    ingredients = d['ingredients']\n",
    "    while \"\" in ingredients:\n",
    "        ingredients.remove(\"\")\n",
    "        \n",
    "    # Remove repeated ingredients\n",
    "    uniques, counts = np.unique(ingredients, return_counts=True)\n",
    "    if len(uniques) != len(ingredients):\n",
    "        for unique, count in zip(uniques, counts):\n",
    "            for _ in range(count - 1):\n",
    "                ingredients.remove(unique)\n",
    "        \n",
    "    data[idx]['ingredients'] = ingredients\n",
    "    \n",
    "    # Remove uncessary data\n",
    "    d.pop('alcohol')\n",
    "    d.pop('id')"
   ]
  },
  {
   "cell_type": "code",
   "execution_count": 46,
   "metadata": {},
   "outputs": [],
   "source": [
    "with open('./data/cleaned.json', 'w', newline='\\n') as f:\n",
    "    json.dump(data, f, indent=4)"
   ]
  },
  {
   "cell_type": "code",
   "execution_count": 49,
   "metadata": {},
   "outputs": [],
   "source": [
    "ing = [i['ingredients'] for i in data]"
   ]
  },
  {
   "cell_type": "code",
   "execution_count": 52,
   "metadata": {},
   "outputs": [],
   "source": [
    "ing = [j for i in data for j in i['ingredients']]"
   ]
  },
  {
   "cell_type": "code",
   "execution_count": 54,
   "metadata": {
    "scrolled": false
   },
   "outputs": [
    {
     "data": {
      "text/plain": [
       "(array(['151 proof rum', '7-Up', 'Absolut Citron', 'Absolut Kurant',\n",
       "        'Absolut Peppar', 'Absolut Vodka', 'Acerola', 'Advocaat',\n",
       "        'Aftershock', 'Ale', 'Allspice', 'Almond', 'Almond flavoring',\n",
       "        'Amaretto', 'Amer Picon', 'Angelica root', 'Angostura bitters',\n",
       "        'Anis', 'Anise', 'Anisette', 'Aperol', 'Apfelkorn', 'Apple',\n",
       "        'Apple brandy', 'Apple cider', 'Apple juice', 'Apple schnapps',\n",
       "        'Applejack', 'Apricot', 'Apricot brandy', 'Aquavit', 'Asafoetida',\n",
       "        'Añejo rum', 'Bacardi Limon', \"Bailey's irish cream\", 'Banana',\n",
       "        'Banana liqueur', 'Banana rum', 'Barenjager', 'Beef bouillon',\n",
       "        'Beer', 'Benedictine', 'Berries', 'Bitter lemon', 'Bitters',\n",
       "        'Black Sambuca', 'Black pepper', 'Blackberries',\n",
       "        'Blackberry brandy', 'Blackcurrant cordial', 'Blackcurrant squash',\n",
       "        'Blended whiskey', 'Blue Curacao', 'Blueberries',\n",
       "        'Blueberry schnapps', 'Bourbon', 'Brandy', 'Bread', 'Brown sugar',\n",
       "        'Butter', 'Butterscotch schnapps', 'Cachaca', 'Calvados',\n",
       "        'Campari', 'Canadian whisky', 'Cantaloupe', 'Caramel liqueur',\n",
       "        'Carbonated soft drink', 'Carbonated water', 'Cardamom', 'Carrot',\n",
       "        'Cayenne pepper', 'Celery salt', 'Chambord raspberry liqueur',\n",
       "        'Champagne', 'Cherry', 'Cherry Heering', 'Cherry brandy',\n",
       "        'Cherry liqueur', 'Cherry vodka', 'Chocolate',\n",
       "        'Chocolate ice-cream', 'Chocolate liqueur', 'Chocolate milk',\n",
       "        'Chocolate mint liqueur', 'Chocolate syrup', 'Cider', 'Cinnamon',\n",
       "        'Cinnamon schnapps', 'Clamato juice', 'Clove', 'Cloves',\n",
       "        'Club soda', 'Coca-Cola', 'Cocktail onion', 'Cocoa powder',\n",
       "        'Coconut', 'Coconut cream', 'Coconut liqueur', 'Coconut milk',\n",
       "        'Coconut rum', 'Coconut syrup', 'Coffee', 'Coffee brandy',\n",
       "        'Coffee liqueur', 'Coffeemate', 'Cognac', 'Cointreau',\n",
       "        'Condensed milk', 'Coriander', 'Corn syrup', 'Cornstarch',\n",
       "        'Cranberries', 'Cranberry juice', 'Cranberry liqueur',\n",
       "        'Cranberry vodka', 'Cream', 'Cream of coconut', 'Creme de Almond',\n",
       "        'Creme de Banane', 'Creme de Cacao', 'Creme de Cassis',\n",
       "        'Creme de Noyaux', 'Crystal light', 'Cucumber', 'Cumin seed',\n",
       "        'Curacao', 'Daiquiri mix', 'Dark Creme de Cacao', 'Dark rum',\n",
       "        'Dr. Pepper', 'Drambuie', 'Dry Vermouth', 'Dubonnet Blanc',\n",
       "        'Dubonnet Rouge', 'Egg', 'Egg white', 'Egg yolk', 'Eggnog',\n",
       "        'Erin Cream', 'Espresso', 'Everclear', 'Fennel seeds',\n",
       "        'Fernet Branca', 'Figs', 'Firewater', 'Food coloring',\n",
       "        'Forbidden Fruit', 'Frangelico', 'Fresca', 'Fruit', 'Fruit juice',\n",
       "        'Fruit punch', 'Fruit syrup', 'Galliano', 'George Dickel', 'Gin',\n",
       "        'Ginger', 'Ginger ale', 'Ginger beer', 'Glycerine', 'Gold tequila',\n",
       "        'Goldschlager', 'Grain alcohol', 'Grand Marnier', 'Grape juice',\n",
       "        'Grapefruit juice', 'Grapes', 'Green Chartreuse',\n",
       "        'Green Creme de Menthe', 'Grenadine', 'Guava juice', 'Guava syrup',\n",
       "        'Guinness stout', 'Half-and-half', 'Hawaiian Punch',\n",
       "        'Hazelnut liqueur', 'Heavy cream', 'Honey', 'Hoopers Hooch',\n",
       "        'Hot Damn', 'Hot chocolate', 'Hpnotiq', 'Ice', 'Ice 101',\n",
       "        'Ice-cream', 'Iced tea', 'Irish cream', 'Irish whiskey',\n",
       "        'Jack Daniels', 'Jim Beam', 'Johnnie Walker', 'Jägermeister',\n",
       "        'Kahlua', 'Kirschwasser', 'Kiwi', 'Kool-Aid', 'Kummel', 'Lager',\n",
       "        'Lemon', 'Lemon juice', 'Lemon liqueur', 'Lemon peel',\n",
       "        'Lemon soda', 'Lemon vodka', 'Lemon-lime soda', 'Lemonade',\n",
       "        'Licorice root', 'Light cream', 'Light rum', 'Lillet', 'Lime',\n",
       "        'Lime juice', 'Lime juice cordial', 'Lime peel', 'Lime vodka',\n",
       "        'Limeade', 'Lingonberry jam', 'Mad Dog 20/20', 'Madeira',\n",
       "        'Malibu rum', 'Mandarin', 'Mandarine Napoleon', 'Mango',\n",
       "        'Maple syrup', 'Maraschino cherry', 'Maraschino cherry juice',\n",
       "        'Maraschino liqueur', 'Margarita mix', 'Marjoram leaves',\n",
       "        'Marshmallows', 'Melon liqueur', 'Midori melon liqueur', 'Milk',\n",
       "        'Mint', 'Mint syrup', 'Molasses', 'Mountain Dew', 'Nutmeg', 'Nuts',\n",
       "        'Olive', 'Orange', 'Orange bitters', 'Orange juice',\n",
       "        'Orange liqueur', 'Orange peel', 'Orange rum', 'Orange spiral',\n",
       "        'Orange vodka', 'Oreo cookie', 'Orgeat syrup', 'Ouzo', 'Papaya',\n",
       "        'Papaya juice', 'Passion fruit juice', 'Passion fruit syrup',\n",
       "        'Passoa', 'Peach', 'Peach Vodka', 'Peach brandy', 'Peach liqueur',\n",
       "        'Peach nectar', 'Peach schnapps', 'Peachtree schnapps',\n",
       "        'Peanut liqueur', 'Pear', 'Pear juice', 'Peppermint extract',\n",
       "        'Peppermint schnapps', 'Pernod', 'Peychaud bitters', 'Pineapple',\n",
       "        'Pineapple juice', 'Pineapple rum', 'Pineapple soda',\n",
       "        'Pineapple-orange-banana juice', 'Pineau des Charentes',\n",
       "        'Pink lemonade', 'Pisang Ambon', 'Pisco', 'Pistachio liqueur',\n",
       "        'Piña Colada', 'Plums', 'Port', 'Powdered sugar', 'Pumpkin',\n",
       "        'Raisins', 'Raspberry cordial', 'Raspberry juice',\n",
       "        'Raspberry schnapps', 'Raspberry syrup', 'Red wine', 'Rhubarb',\n",
       "        'Ricard', 'Rock and rye', 'Root beer', 'Root beer schnapps',\n",
       "        \"Rose's sweetened lime juice\", 'Rosewater', 'Rum', 'Rumple Minze',\n",
       "        'Rye whiskey', 'Safari', 'Sake', 'Salt', 'Sambuca', 'Schnapps',\n",
       "        'Scotch', 'Seagram 7', 'Sherbet', 'Sherry', 'Sirup of roses',\n",
       "        'Sloe gin', 'Soda water', 'Sour mix', 'Southern Comfort',\n",
       "        'Soy milk', 'Soy sauce', 'Spiced rum', 'Sprite', 'Squirt',\n",
       "        'St. Hallvard', 'Stout', 'Strawberries', 'Strawberry liqueur',\n",
       "        'Strawberry schnapps', 'Strega', 'Sugar', 'Sugar syrup',\n",
       "        'Swedish Punsch', 'Sweet Vermouth', 'Sweet and sour',\n",
       "        'Tabasco sauce', 'Taboo', 'Tang', 'Tawny port', 'Tea', 'Tequila',\n",
       "        'Thunderbird', 'Tia maria', 'Tomato juice', 'Tonic water',\n",
       "        'Triple sec', 'Tropicana', 'Tuaca', 'Vanilla', 'Vanilla extract',\n",
       "        'Vanilla ice-cream', 'Vanilla liqueur', 'Vermouth', 'Vodka',\n",
       "        'Water', 'Whipped cream', 'Whipping cream', 'Whiskey', 'Whisky',\n",
       "        'White Creme de Menthe', 'White grape juice', 'White port',\n",
       "        'White rum', 'White wine', 'Wild Spirit liqueur',\n",
       "        'Wildberry schnapps', 'Wine', 'Worcestershire sauce', 'Wormwood',\n",
       "        'Yeast', 'Yellow Chartreuse', 'Yoghurt', 'Yukon Jack'],\n",
       "       dtype='<U29'),\n",
       " array([ 26,   6,   3,   4,   1,   3,   1,   1,   1,   2,  11,   4,   5,\n",
       "         53,   1,   3,   5,  27,   4,  21,   1,   1,   9,  23,  12,  11,\n",
       "          2,  13,   1,  53,   2,   1,  22,   1,  28,  15,   5,   1,   1,\n",
       "          1,  18,  24,   3,   1, 113,   3,   2,   1,   7,   1,   1,  47,\n",
       "         28,   1,   1,  64, 145,   2,  12,   5,   2,   4,   2,   5,   5,\n",
       "          1,   1,   3,   3,  10,   2,   2,   2,   8,  20,  68,   1,  49,\n",
       "          1,   2,   8,   2,   1,   1,   1,  13,   5,  39,   3,   2,   2,\n",
       "         28,  31,   8,   3,   8,   1,   1,   2,   2,   1,   3,  29,  11,\n",
       "          8,   1,  12,   9,   9,   3,   1,   1,   2,  22,   1,   1,  18,\n",
       "          5,   1,  15,  56,   5,   3,   1,   1,   1,   4,   1,  15,  60,\n",
       "          1,   4, 152,   3,  19,  51,  52,  19,   2,   1,   1,   6,   2,\n",
       "          1,   1,   3,   6,   1,   4,   1,   3,   3,   1,   1,  14,   1,\n",
       "        335,  12,  27,   1,   3,   3,   9,   8,  12,   7,  31,   2,  11,\n",
       "         21, 129,   1,   1,   1,  10,   3,   1,  25,  17,   1,   1,   2,\n",
       "          1,  45,   1,   3,   3,   4,  13,   6,   1,   3,  12,  39,   4,\n",
       "          2,   6,   4,   3, 133, 210,   1, 111,   1,   2,   8,  17,   1,\n",
       "         60, 150,   2,  83,  75,   3,   2,   2,   1,   1,   1,   7,  16,\n",
       "          1,   1,   3,   2,  47,   1,  42,   1,   1,   1,   5,  11,  56,\n",
       "         26,   2,   1,   8,  25,   1,  13,  80,  45, 148,   1,  15,   1,\n",
       "          7,   2,   1,   7,   2,   1,   1,   3,   6,   2,   2,   1,   6,\n",
       "          1,   2,  15,   3,   1,   1,   1,   1,   7,   9,   1,  31,  83,\n",
       "          1,   1,   1,   1,   4,   3,   2,   1,   1,   1,  19, 117,   1,\n",
       "          5,   1,   1,   1,   4,  22,   1,   2,   2,   3,   3,   2,   1,\n",
       "         30,   5,   4,   1,   3,  17,   5,   1,  71,   1,   8,  27,   1,\n",
       "         26,  11,   7,  27,   1,   1,   8,   4,   2,   1,   1,  19,   1,\n",
       "          5,   2, 196,  20,   3, 114,  17,  12,   1,   2,   6,  11,  50,\n",
       "          1,   7,   6,  10, 135,   1,   1,   7,  21,  14,   1,   1, 167,\n",
       "         90,   4,   6,  12,   2,  25,   1,   2,   6,   9,   1,   1,   5,\n",
       "          4,   2,   4,   7,  11,   2]))"
      ]
     },
     "execution_count": 54,
     "metadata": {},
     "output_type": "execute_result"
    }
   ],
   "source": [
    "np.unique(ing, return_counts=True)"
   ]
  },
  {
   "cell_type": "code",
   "execution_count": null,
   "metadata": {},
   "outputs": [],
   "source": []
  }
 ],
 "metadata": {
  "kernelspec": {
   "display_name": "Python 3",
   "language": "python",
   "name": "python3"
  },
  "language_info": {
   "codemirror_mode": {
    "name": "ipython",
    "version": 3
   },
   "file_extension": ".py",
   "mimetype": "text/x-python",
   "name": "python",
   "nbconvert_exporter": "python",
   "pygments_lexer": "ipython3",
   "version": "3.7.2"
  }
 },
 "nbformat": 4,
 "nbformat_minor": 2
}
